{
 "cells": [
  {
   "cell_type": "markdown",
   "metadata": {},
   "source": [
    "# GEORREFERENCIAMENTO OVP-DH\n",
    "## Jupyter Notebook compartilhado"
   ]
  },
  {
   "cell_type": "code",
   "execution_count": 253,
   "metadata": {
    "ExecuteTime": {
     "end_time": "2020-06-25T20:42:38.019169Z",
     "start_time": "2020-06-25T20:42:38.016145Z"
    }
   },
   "outputs": [],
   "source": [
    "import numpy as np\n",
    "import pandas as pd\n",
    "import datetime as dt\n",
    "import folium\n",
    "from folium import plugins\n",
    "from ipywidgets import interact, SelectionRangeSlider"
   ]
  },
  {
   "cell_type": "markdown",
   "metadata": {},
   "source": [
    "### Abrindo dataset"
   ]
  },
  {
   "cell_type": "code",
   "execution_count": 254,
   "metadata": {
    "ExecuteTime": {
     "end_time": "2020-06-25T20:42:38.351012Z",
     "start_time": "2020-06-25T20:42:38.318825Z"
    }
   },
   "outputs": [
    {
     "data": {
      "text/html": [
       "<div>\n",
       "<style scoped>\n",
       "    .dataframe tbody tr th:only-of-type {\n",
       "        vertical-align: middle;\n",
       "    }\n",
       "\n",
       "    .dataframe tbody tr th {\n",
       "        vertical-align: top;\n",
       "    }\n",
       "\n",
       "    .dataframe thead th {\n",
       "        text-align: right;\n",
       "    }\n",
       "</style>\n",
       "<table border=\"1\" class=\"dataframe\">\n",
       "  <thead>\n",
       "    <tr style=\"text-align: right;\">\n",
       "      <th></th>\n",
       "      <th>NUM_BO</th>\n",
       "      <th>RUBRICA</th>\n",
       "      <th>ANO</th>\n",
       "      <th>MES</th>\n",
       "      <th>CIDADE</th>\n",
       "      <th>LOGRADOURO</th>\n",
       "      <th>NUMERO_LOGRADOURO</th>\n",
       "      <th>LATITUDE</th>\n",
       "      <th>LONGITUDE</th>\n",
       "    </tr>\n",
       "  </thead>\n",
       "  <tbody>\n",
       "    <tr>\n",
       "      <th>0</th>\n",
       "      <td>943</td>\n",
       "      <td>Furto qualificado (art. 155, §4o.)</td>\n",
       "      <td>2016</td>\n",
       "      <td>1</td>\n",
       "      <td>S.PAULO</td>\n",
       "      <td>RUA JOAO MOURA</td>\n",
       "      <td>500</td>\n",
       "      <td>-23.560901</td>\n",
       "      <td>-46.677317</td>\n",
       "    </tr>\n",
       "    <tr>\n",
       "      <th>1</th>\n",
       "      <td>992386</td>\n",
       "      <td>Roubo (art. 157)</td>\n",
       "      <td>2016</td>\n",
       "      <td>7</td>\n",
       "      <td>S.ANDRE</td>\n",
       "      <td>RUA MAURITI</td>\n",
       "      <td>60</td>\n",
       "      <td>-23.674312</td>\n",
       "      <td>-46.504567</td>\n",
       "    </tr>\n",
       "    <tr>\n",
       "      <th>2</th>\n",
       "      <td>1044074</td>\n",
       "      <td>Furto (art. 155)</td>\n",
       "      <td>2016</td>\n",
       "      <td>8</td>\n",
       "      <td>S.PAULO</td>\n",
       "      <td>AVENIDA PRESIDENTE WILSON</td>\n",
       "      <td>4800</td>\n",
       "      <td>-23.594249</td>\n",
       "      <td>-46.589926</td>\n",
       "    </tr>\n",
       "    <tr>\n",
       "      <th>3</th>\n",
       "      <td>1996</td>\n",
       "      <td>Drogas sem autorização ou em desacordo (Art.33...</td>\n",
       "      <td>2016</td>\n",
       "      <td>3</td>\n",
       "      <td>S.PAULO</td>\n",
       "      <td>RUA DARIO VELOSO</td>\n",
       "      <td>130</td>\n",
       "      <td>-23.477746</td>\n",
       "      <td>-46.746526</td>\n",
       "    </tr>\n",
       "    <tr>\n",
       "      <th>4</th>\n",
       "      <td>815370</td>\n",
       "      <td>Roubo (art. 157)</td>\n",
       "      <td>2016</td>\n",
       "      <td>6</td>\n",
       "      <td>S.PAULO</td>\n",
       "      <td>RUA MARIO COVAS</td>\n",
       "      <td>0</td>\n",
       "      <td>-23.505120</td>\n",
       "      <td>-46.367294</td>\n",
       "    </tr>\n",
       "  </tbody>\n",
       "</table>\n",
       "</div>"
      ],
      "text/plain": [
       "    NUM_BO                                            RUBRICA   ANO  MES  \\\n",
       "0      943                 Furto qualificado (art. 155, §4o.)  2016    1   \n",
       "1   992386                                   Roubo (art. 157)  2016    7   \n",
       "2  1044074                                   Furto (art. 155)  2016    8   \n",
       "3     1996  Drogas sem autorização ou em desacordo (Art.33...  2016    3   \n",
       "4   815370                                   Roubo (art. 157)  2016    6   \n",
       "\n",
       "                                     CIDADE  \\\n",
       "0  S.PAULO                                    \n",
       "1  S.ANDRE                                    \n",
       "2  S.PAULO                                    \n",
       "3  S.PAULO                                    \n",
       "4  S.PAULO                                    \n",
       "\n",
       "                                 LOGRADOURO  NUMERO_LOGRADOURO   LATITUDE  \\\n",
       "0  RUA JOAO MOURA                                          500 -23.560901   \n",
       "1  RUA MAURITI                                              60 -23.674312   \n",
       "2  AVENIDA PRESIDENTE WILSON                              4800 -23.594249   \n",
       "3  RUA DARIO VELOSO                                        130 -23.477746   \n",
       "4  RUA MARIO COVAS                                           0 -23.505120   \n",
       "\n",
       "   LONGITUDE  \n",
       "0 -46.677317  \n",
       "1 -46.504567  \n",
       "2 -46.589926  \n",
       "3 -46.746526  \n",
       "4 -46.367294  "
      ]
     },
     "execution_count": 254,
     "metadata": {},
     "output_type": "execute_result"
    }
   ],
   "source": [
    "#abrindo o arquivo csv\n",
    "df = pd.read_csv('../data/data_geo_bo2016.csv').drop(columns=['Unnamed: 0'])\n",
    "#lendo as cinco primeiras linhas\n",
    "df.head()"
   ]
  },
  {
   "cell_type": "markdown",
   "metadata": {},
   "source": [
    "## Construindo o mapa "
   ]
  },
  {
   "cell_type": "markdown",
   "metadata": {},
   "source": [
    "### Definindo 'RUBRICA' como objetivo de pesquisa"
   ]
  },
  {
   "cell_type": "code",
   "execution_count": 255,
   "metadata": {
    "ExecuteTime": {
     "end_time": "2020-06-25T20:42:38.800264Z",
     "start_time": "2020-06-25T20:42:38.795538Z"
    }
   },
   "outputs": [
    {
     "name": "stdout",
     "output_type": "stream",
     "text": [
      "Numero de rubricas:  13 \n",
      "\n",
      "Descricao das rubricas: \n",
      " ['Furto qualificado (art. 155, §4o.)' 'Roubo (art. 157)'\n",
      " 'Furto (art. 155)'\n",
      " 'Drogas sem autorização ou em desacordo (Art.33, caput)'\n",
      " 'Lesão corporal (art 129 § 9º)' 'Lesão corporal (art. 129)'\n",
      " 'Lesão corporal culposa na direção de veículo automotor (Art. 303)'\n",
      " 'A.I.-Estupro de vulneravel (art.217-A)' 'A.I.-Roubo (art. 157)'\n",
      " 'Estupro de vulneravel (art.217-A)'\n",
      " 'Homicídio culposo na direção de veículo automotor (Art. 302)'\n",
      " 'A.I.-Drogas sem autorização ou em desacordo (Art.33, caput)'\n",
      " 'A.I.-Lesão corporal (art. 129)']\n"
     ]
    }
   ],
   "source": [
    "print('Numero de rubricas: ', df['RUBRICA'].nunique(), '\\n')\n",
    "print('Descricao das rubricas: \\n', df['RUBRICA'].unique())"
   ]
  },
  {
   "cell_type": "markdown",
   "metadata": {},
   "source": [
    "### Reformulando endereco, crime, lei, e data"
   ]
  },
  {
   "cell_type": "code",
   "execution_count": 256,
   "metadata": {
    "ExecuteTime": {
     "end_time": "2020-06-25T20:42:39.124839Z",
     "start_time": "2020-06-25T20:42:39.120237Z"
    }
   },
   "outputs": [
    {
     "name": "stdout",
     "output_type": "stream",
     "text": [
      "NUM_BO               0\n",
      "RUBRICA              0\n",
      "ANO                  0\n",
      "MES                  0\n",
      "CIDADE               0\n",
      "LOGRADOURO           0\n",
      "NUMERO_LOGRADOURO    0\n",
      "LATITUDE             0\n",
      "LONGITUDE            0\n",
      "dtype: int64\n"
     ]
    }
   ],
   "source": [
    "# verifinando dados nulos em latitude e longitude\n",
    "\n",
    "print(df.isna().sum())"
   ]
  },
  {
   "cell_type": "code",
   "execution_count": 257,
   "metadata": {
    "ExecuteTime": {
     "end_time": "2020-06-25T20:42:39.292324Z",
     "start_time": "2020-06-25T20:42:39.282727Z"
    }
   },
   "outputs": [],
   "source": [
    "# criando endereco\n",
    "df['ENDERECO'] = df['CIDADE'].str.strip() + ', ' + df['LOGRADOURO'].str.strip()\n",
    "\n",
    "df.ENDERECO = df.ENDERECO.str.title()"
   ]
  },
  {
   "cell_type": "code",
   "execution_count": 258,
   "metadata": {
    "ExecuteTime": {
     "end_time": "2020-06-25T20:42:39.459118Z",
     "start_time": "2020-06-25T20:42:39.448797Z"
    }
   },
   "outputs": [],
   "source": [
    "# obtendo o crime constatado na rubrica\n",
    "df[['CRIME','ARTIGO']] = df['RUBRICA'].str.split('(', expand=True)"
   ]
  },
  {
   "cell_type": "code",
   "execution_count": 259,
   "metadata": {
    "ExecuteTime": {
     "end_time": "2020-06-25T20:42:39.610283Z",
     "start_time": "2020-06-25T20:42:39.599570Z"
    }
   },
   "outputs": [
    {
     "data": {
      "text/plain": [
       "array(['Furto qualificado', 'Roubo', 'Furto',\n",
       "       'Drogas sem autorização ou em desacordo', 'Lesão corporal',\n",
       "       'Lesão corporal culposa na direção de veículo automotor',\n",
       "       'A.I.-Estupro de vulneravel', 'A.I.-Roubo',\n",
       "       'Estupro de vulneravel',\n",
       "       'Homicídio culposo na direção de veículo automotor',\n",
       "       'A.I.-Drogas sem autorização ou em desacordo',\n",
       "       'A.I.-Lesão corporal'], dtype=object)"
      ]
     },
     "execution_count": 259,
     "metadata": {},
     "output_type": "execute_result"
    }
   ],
   "source": [
    "# limpando os atributos criados\n",
    "df.CRIME = df.CRIME.str.strip()\n",
    "df.ARTIGO = df.ARTIGO.str.strip(')')\n",
    "\n",
    "# observando a coluna de crimes\n",
    "df.CRIME.unique()"
   ]
  },
  {
   "cell_type": "code",
   "execution_count": 260,
   "metadata": {
    "ExecuteTime": {
     "end_time": "2020-06-25T20:42:39.775494Z",
     "start_time": "2020-06-25T20:42:39.770145Z"
    }
   },
   "outputs": [
    {
     "data": {
      "text/plain": [
       "array(['art. 155, §4o.', 'art. 157', 'art. 155', 'Art.33, caput',\n",
       "       'art 129 § 9º', 'art. 129', 'Art. 303', 'art.217-A', 'Art. 302'],\n",
       "      dtype=object)"
      ]
     },
     "execution_count": 260,
     "metadata": {},
     "output_type": "execute_result"
    }
   ],
   "source": [
    "# observando a coluna de leis\n",
    "# a formatacao nao esta perfeita, mas nao ha artigos iguais com diferentes referencias\n",
    "df.ARTIGO.unique()"
   ]
  },
  {
   "cell_type": "code",
   "execution_count": 261,
   "metadata": {
    "ExecuteTime": {
     "end_time": "2020-06-25T20:42:40.461092Z",
     "start_time": "2020-06-25T20:42:40.455127Z"
    }
   },
   "outputs": [],
   "source": [
    "# funcao para declarar os artigos homogeneamente\n",
    "def pretifyartigo(artigo):\n",
    "    artigo = artigo.capitalize().strip().strip('.')\n",
    "    if \".\" in artigo:\n",
    "        if \". \" in artigo:\n",
    "            return artigo\n",
    "        else:\n",
    "            i, j = artigo.split('.')\n",
    "            artigo = i + '. ' + j\n",
    "            return artigo\n",
    "    else:\n",
    "        i, j = artigo.split('t')\n",
    "        artigo = i + 't. ' + j.strip()\n",
    "        return artigo"
   ]
  },
  {
   "cell_type": "code",
   "execution_count": 262,
   "metadata": {
    "ExecuteTime": {
     "end_time": "2020-06-25T20:42:40.989902Z",
     "start_time": "2020-06-25T20:42:40.986091Z"
    }
   },
   "outputs": [],
   "source": [
    "# aplicando a funcao a coluna de artigos\n",
    "df.ARTIGO = df.ARTIGO.apply(pretifyartigo)"
   ]
  },
  {
   "cell_type": "code",
   "execution_count": 263,
   "metadata": {
    "ExecuteTime": {
     "end_time": "2020-06-25T20:42:41.639132Z",
     "start_time": "2020-06-25T20:42:41.616302Z"
    }
   },
   "outputs": [
    {
     "data": {
      "text/html": [
       "<div>\n",
       "<style scoped>\n",
       "    .dataframe tbody tr th:only-of-type {\n",
       "        vertical-align: middle;\n",
       "    }\n",
       "\n",
       "    .dataframe tbody tr th {\n",
       "        vertical-align: top;\n",
       "    }\n",
       "\n",
       "    .dataframe thead th {\n",
       "        text-align: right;\n",
       "    }\n",
       "</style>\n",
       "<table border=\"1\" class=\"dataframe\">\n",
       "  <thead>\n",
       "    <tr style=\"text-align: right;\">\n",
       "      <th></th>\n",
       "      <th>NUM_BO</th>\n",
       "      <th>RUBRICA</th>\n",
       "      <th>ANO</th>\n",
       "      <th>MES</th>\n",
       "      <th>CIDADE</th>\n",
       "      <th>LOGRADOURO</th>\n",
       "      <th>NUMERO_LOGRADOURO</th>\n",
       "      <th>LATITUDE</th>\n",
       "      <th>LONGITUDE</th>\n",
       "      <th>ENDERECO</th>\n",
       "      <th>CRIME</th>\n",
       "      <th>ARTIGO</th>\n",
       "      <th>DATA</th>\n",
       "    </tr>\n",
       "  </thead>\n",
       "  <tbody>\n",
       "    <tr>\n",
       "      <th>0</th>\n",
       "      <td>943</td>\n",
       "      <td>Furto qualificado (art. 155, §4o.)</td>\n",
       "      <td>2016</td>\n",
       "      <td>1</td>\n",
       "      <td>S.PAULO</td>\n",
       "      <td>RUA JOAO MOURA</td>\n",
       "      <td>500</td>\n",
       "      <td>-23.560901</td>\n",
       "      <td>-46.677317</td>\n",
       "      <td>S.Paulo, Rua Joao Moura</td>\n",
       "      <td>Furto qualificado</td>\n",
       "      <td>Art. 155, §4o</td>\n",
       "      <td>2016-01-01</td>\n",
       "    </tr>\n",
       "    <tr>\n",
       "      <th>1</th>\n",
       "      <td>992386</td>\n",
       "      <td>Roubo (art. 157)</td>\n",
       "      <td>2016</td>\n",
       "      <td>7</td>\n",
       "      <td>S.ANDRE</td>\n",
       "      <td>RUA MAURITI</td>\n",
       "      <td>60</td>\n",
       "      <td>-23.674312</td>\n",
       "      <td>-46.504567</td>\n",
       "      <td>S.Andre, Rua Mauriti</td>\n",
       "      <td>Roubo</td>\n",
       "      <td>Art. 157</td>\n",
       "      <td>2016-07-01</td>\n",
       "    </tr>\n",
       "    <tr>\n",
       "      <th>2</th>\n",
       "      <td>1044074</td>\n",
       "      <td>Furto (art. 155)</td>\n",
       "      <td>2016</td>\n",
       "      <td>8</td>\n",
       "      <td>S.PAULO</td>\n",
       "      <td>AVENIDA PRESIDENTE WILSON</td>\n",
       "      <td>4800</td>\n",
       "      <td>-23.594249</td>\n",
       "      <td>-46.589926</td>\n",
       "      <td>S.Paulo, Avenida Presidente Wilson</td>\n",
       "      <td>Furto</td>\n",
       "      <td>Art. 155</td>\n",
       "      <td>2016-08-01</td>\n",
       "    </tr>\n",
       "    <tr>\n",
       "      <th>3</th>\n",
       "      <td>1996</td>\n",
       "      <td>Drogas sem autorização ou em desacordo (Art.33...</td>\n",
       "      <td>2016</td>\n",
       "      <td>3</td>\n",
       "      <td>S.PAULO</td>\n",
       "      <td>RUA DARIO VELOSO</td>\n",
       "      <td>130</td>\n",
       "      <td>-23.477746</td>\n",
       "      <td>-46.746526</td>\n",
       "      <td>S.Paulo, Rua Dario Veloso</td>\n",
       "      <td>Drogas sem autorização ou em desacordo</td>\n",
       "      <td>Art. 33, caput</td>\n",
       "      <td>2016-03-01</td>\n",
       "    </tr>\n",
       "    <tr>\n",
       "      <th>4</th>\n",
       "      <td>815370</td>\n",
       "      <td>Roubo (art. 157)</td>\n",
       "      <td>2016</td>\n",
       "      <td>6</td>\n",
       "      <td>S.PAULO</td>\n",
       "      <td>RUA MARIO COVAS</td>\n",
       "      <td>0</td>\n",
       "      <td>-23.505120</td>\n",
       "      <td>-46.367294</td>\n",
       "      <td>S.Paulo, Rua Mario Covas</td>\n",
       "      <td>Roubo</td>\n",
       "      <td>Art. 157</td>\n",
       "      <td>2016-06-01</td>\n",
       "    </tr>\n",
       "  </tbody>\n",
       "</table>\n",
       "</div>"
      ],
      "text/plain": [
       "    NUM_BO                                            RUBRICA   ANO  MES  \\\n",
       "0      943                 Furto qualificado (art. 155, §4o.)  2016    1   \n",
       "1   992386                                   Roubo (art. 157)  2016    7   \n",
       "2  1044074                                   Furto (art. 155)  2016    8   \n",
       "3     1996  Drogas sem autorização ou em desacordo (Art.33...  2016    3   \n",
       "4   815370                                   Roubo (art. 157)  2016    6   \n",
       "\n",
       "                                     CIDADE  \\\n",
       "0  S.PAULO                                    \n",
       "1  S.ANDRE                                    \n",
       "2  S.PAULO                                    \n",
       "3  S.PAULO                                    \n",
       "4  S.PAULO                                    \n",
       "\n",
       "                                 LOGRADOURO  NUMERO_LOGRADOURO   LATITUDE  \\\n",
       "0  RUA JOAO MOURA                                          500 -23.560901   \n",
       "1  RUA MAURITI                                              60 -23.674312   \n",
       "2  AVENIDA PRESIDENTE WILSON                              4800 -23.594249   \n",
       "3  RUA DARIO VELOSO                                        130 -23.477746   \n",
       "4  RUA MARIO COVAS                                           0 -23.505120   \n",
       "\n",
       "   LONGITUDE                            ENDERECO  \\\n",
       "0 -46.677317             S.Paulo, Rua Joao Moura   \n",
       "1 -46.504567                S.Andre, Rua Mauriti   \n",
       "2 -46.589926  S.Paulo, Avenida Presidente Wilson   \n",
       "3 -46.746526           S.Paulo, Rua Dario Veloso   \n",
       "4 -46.367294            S.Paulo, Rua Mario Covas   \n",
       "\n",
       "                                    CRIME          ARTIGO       DATA  \n",
       "0                       Furto qualificado   Art. 155, §4o 2016-01-01  \n",
       "1                                   Roubo        Art. 157 2016-07-01  \n",
       "2                                   Furto        Art. 155 2016-08-01  \n",
       "3  Drogas sem autorização ou em desacordo  Art. 33, caput 2016-03-01  \n",
       "4                                   Roubo        Art. 157 2016-06-01  "
      ]
     },
     "execution_count": 263,
     "metadata": {},
     "output_type": "execute_result"
    }
   ],
   "source": [
    "# criando coluna de datetime\n",
    "df[\"DATA\"] = df.ANO.astype(str) + \"-\" + df.MES.astype(str)\n",
    "\n",
    "df[\"DATA\"] = pd.to_datetime(df.DATA, format=\"%Y-%m\", dayfirst=True)\n",
    "\n",
    "df.head()"
   ]
  },
  {
   "cell_type": "markdown",
   "metadata": {},
   "source": [
    "### Definindo as cores dos marcadores e template do popup"
   ]
  },
  {
   "cell_type": "code",
   "execution_count": 264,
   "metadata": {
    "ExecuteTime": {
     "end_time": "2020-06-25T20:42:42.136570Z",
     "start_time": "2020-06-25T20:42:42.132789Z"
    }
   },
   "outputs": [],
   "source": [
    "### Definindo as cores\n",
    "\n",
    "dic_nl = {'Furto qualificado':'lightgreen',\n",
    "          'Furto':'lightgreen',\n",
    "          'Roubo':'darkgreen',\n",
    "          'A.I.-Roubo':'darkgreen',\n",
    "          'Drogas sem autorização ou em desacordo':'purple',\n",
    "          'A.I.-Drogas sem autorização ou em desacordo':'purple',\n",
    "          'Lesão corporal':'black',\n",
    "          'A.I.-Lesão corporal':'black',\n",
    "          'Lesão corporal culposa na direção de veículo automotor':'cadetblue',\n",
    "          'Homicídio culposo na direção de veículo automotor':'darkblue',\n",
    "          'A.I.-Estupro de vulneravel':'darkred',\n",
    "          'Estupro de vulneravel':'darkred',\n",
    "         }\n",
    "\n",
    "html_temp = \"\"\"\n",
    "    <h5>CRIME: </h5>\n",
    "    {}\n",
    "    <h5>ARTIGO: </h5>\n",
    "    {}\n",
    "    <h5>LOCAL: </h5>\n",
    "    {}\n",
    "    \"\"\""
   ]
  },
  {
   "cell_type": "markdown",
   "metadata": {},
   "source": [
    "### Plotando sub-grupos em camadas"
   ]
  },
  {
   "cell_type": "code",
   "execution_count": 276,
   "metadata": {
    "ExecuteTime": {
     "end_time": "2020-06-25T20:51:44.986766Z",
     "start_time": "2020-06-25T20:51:44.977998Z"
    }
   },
   "outputs": [],
   "source": [
    "latmean = df['LATITUDE'].mean()\n",
    "lonmean = df['LONGITUDE'].mean()\n",
    "    \n",
    "def plotmonth(month):\n",
    "    data = df[df.DATA.dt.strftime('%b') == month]\n",
    "    mapa_slider = folium.Map(location=[latmean,lonmean],\n",
    "                             zoom_start=9,\n",
    "                             control_scale=True)\n",
    "    \n",
    "    # Minimapa\n",
    "    minimap = plugins.MiniMap(toggle_display=True)\n",
    "    mapa_slider.add_child(minimap)\n",
    "\n",
    "    # Plugin: fullscreen\n",
    "    plugins.Fullscreen(position='topleft').add_to(mapa_slider)\n",
    "    \n",
    "    for bo in data.itertuples():\n",
    "        crime = bo.CRIME\n",
    "        artigo = bo.ARTIGO\n",
    "        endereco = bo.ENDERECO \n",
    "        html = html_temp.format(crime, artigo, endereco)\n",
    "        show_this = folium.Popup(html, max_width=280, min_width=250)\n",
    "        folium.Marker(location=[bo.LATITUDE,bo.LONGITUDE],\n",
    "                      popup=show_this,\n",
    "                      icon=folium.Icon(icon='bolt', \n",
    "                                       color= dic_nl[crime],\n",
    "                                       prefix='fa')).add_to(mapa_slider)\n",
    "        \n",
    "    return mapa_slider"
   ]
  },
  {
   "cell_type": "markdown",
   "metadata": {},
   "source": [
    "### Visualizando o mapa"
   ]
  },
  {
   "cell_type": "code",
   "execution_count": 277,
   "metadata": {
    "ExecuteTime": {
     "end_time": "2020-06-25T20:51:46.528184Z",
     "start_time": "2020-06-25T20:51:46.425467Z"
    }
   },
   "outputs": [
    {
     "data": {
      "application/vnd.jupyter.widget-view+json": {
       "model_id": "08ef1adaf7064c079cacb955df95c64a",
       "version_major": 2,
       "version_minor": 0
      },
      "text/plain": [
       "interactive(children=(SelectionSlider(continuous_update=False, description='Mes (2016)', options=('Jan', 'Feb'…"
      ]
     },
     "metadata": {},
     "output_type": "display_data"
    }
   ],
   "source": [
    "datas = [dt.date(2016,i,1) for i in range(1,13)]\n",
    "options = [i.strftime('%b') for i in datas]\n",
    "\n",
    "interact(plotmonth,\n",
    "         month=SelectionSlider(options=options,\n",
    "                               value=options[0],\n",
    "                               description='Mes (2016)',\n",
    "                               continuous_update=False,\n",
    "                              ));"
   ]
  }
 ],
 "metadata": {
  "kernelspec": {
   "display_name": "Python 3",
   "language": "python",
   "name": "python3"
  },
  "language_info": {
   "codemirror_mode": {
    "name": "ipython",
    "version": 3
   },
   "file_extension": ".py",
   "mimetype": "text/x-python",
   "name": "python",
   "nbconvert_exporter": "python",
   "pygments_lexer": "ipython3",
   "version": "3.6.7"
  },
  "toc": {
   "base_numbering": 1,
   "nav_menu": {},
   "number_sections": true,
   "sideBar": true,
   "skip_h1_title": false,
   "title_cell": "Table of Contents",
   "title_sidebar": "Contents",
   "toc_cell": false,
   "toc_position": {},
   "toc_section_display": true,
   "toc_window_display": false
  }
 },
 "nbformat": 4,
 "nbformat_minor": 2
}
