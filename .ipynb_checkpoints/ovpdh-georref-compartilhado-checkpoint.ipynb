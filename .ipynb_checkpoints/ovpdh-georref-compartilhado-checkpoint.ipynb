{
 "cells": [
  {
   "cell_type": "markdown",
   "metadata": {},
   "source": [
    "# GEORREFERENCIAMENTO OVP-DH - Jupyter Notebook compartilhado"
   ]
  },
  {
   "cell_type": "code",
   "execution_count": 1,
   "metadata": {},
   "outputs": [
    {
     "ename": "ModuleNotFoundError",
     "evalue": "No module named 'psycopg2'",
     "output_type": "error",
     "traceback": [
      "\u001b[0;31m---------------------------------------------------------------------------\u001b[0m",
      "\u001b[0;31mModuleNotFoundError\u001b[0m                       Traceback (most recent call last)",
      "\u001b[0;32m<ipython-input-1-532d37f28b7f>\u001b[0m in \u001b[0;36m<module>\u001b[0;34m\u001b[0m\n\u001b[1;32m      5\u001b[0m \u001b[0;32mfrom\u001b[0m \u001b[0mfolium\u001b[0m \u001b[0;32mimport\u001b[0m \u001b[0mplugins\u001b[0m\u001b[0;34m\u001b[0m\u001b[0;34m\u001b[0m\u001b[0m\n\u001b[1;32m      6\u001b[0m \u001b[0;32mfrom\u001b[0m \u001b[0mfolium\u001b[0m\u001b[0;34m.\u001b[0m\u001b[0mplugins\u001b[0m \u001b[0;32mimport\u001b[0m \u001b[0mMarkerCluster\u001b[0m\u001b[0;34m\u001b[0m\u001b[0;34m\u001b[0m\u001b[0m\n\u001b[0;32m----> 7\u001b[0;31m \u001b[0;32mimport\u001b[0m \u001b[0mpsycopg2\u001b[0m\u001b[0;34m\u001b[0m\u001b[0;34m\u001b[0m\u001b[0m\n\u001b[0m\u001b[1;32m      8\u001b[0m \u001b[0;32mfrom\u001b[0m \u001b[0msqlalchemy\u001b[0m \u001b[0;32mimport\u001b[0m \u001b[0mcreate_engine\u001b[0m\u001b[0;34m\u001b[0m\u001b[0;34m\u001b[0m\u001b[0m\n\u001b[1;32m      9\u001b[0m \u001b[0;32mfrom\u001b[0m \u001b[0mgetpass\u001b[0m \u001b[0;32mimport\u001b[0m \u001b[0mgetpass\u001b[0m\u001b[0;34m\u001b[0m\u001b[0;34m\u001b[0m\u001b[0m\n",
      "\u001b[0;31mModuleNotFoundError\u001b[0m: No module named 'psycopg2'"
     ]
    }
   ],
   "source": [
    "import numpy as np\n",
    "import pandas as pd\n",
    "import ipywidgets\n",
    "import folium\n",
    "from folium import plugins\n",
    "from folium.plugins import MarkerCluster\n",
    "import psycopg2\n",
    "from sqlalchemy import create_engine\n",
    "from getpass import getpass"
   ]
  },
  {
   "cell_type": "markdown",
   "metadata": {},
   "source": [
    "### Query utilizada para montar o dataset (dados advindos de servidor local em PostgreSQL)"
   ]
  },
  {
   "cell_type": "code",
   "execution_count": null,
   "metadata": {},
   "outputs": [],
   "source": [
    "# SELECT a.id_ocorrencia, e.conduta, g.natureza_lesao, f.tipo_crime, d.uf, c.municipio, b.endereco,\n",
    "# b.logradouro_sede, b.geolocalizacao, b.latitude, b.longitude\n",
    "# FROM public.ocorrencia a\n",
    "# JOIN public.geografia b ON b.id_geografia=a.id_geografia\n",
    "# JOIN public.localizacao_municipio c ON c.id_municipio=b.id_municipio\n",
    "# JOIN public.localizacao_uf d ON d.id_uf=c.id_uf\n",
    "# JOIN public.lesao e ON e.id_ocorrencia=a.id_ocorrencia\n",
    "# JOIN public.tipo_crime f ON f.id_tipo_crime=e.id_tipo_crime\n",
    "# JOIN public.natureza_lesao g ON g.id_natureza_lesao=f.id_natureza_lesao\n",
    "# WHERE b.latitude IS NOT NULL\n",
    "# AND b.longitude IS NOT NULL\n",
    "# ORDER BY a.id_ocorrencia"
   ]
  },
  {
   "cell_type": "markdown",
   "metadata": {},
   "source": [
    "### Abrindo dataset"
   ]
  },
  {
   "cell_type": "code",
   "execution_count": null,
   "metadata": {},
   "outputs": [],
   "source": [
    "data = pd.read_csv('ovpdh-georref.csv').drop(columns=['Unnamed: 0'])"
   ]
  },
  {
   "cell_type": "code",
   "execution_count": null,
   "metadata": {},
   "outputs": [],
   "source": [
    "data"
   ]
  },
  {
   "cell_type": "markdown",
   "metadata": {},
   "source": [
    "## Construindo o mapa 1) Selecionar marcadores a partir de condição\n",
    "\n",
    "#### IAN: por favor, implemente: ao clicar no ícone abrir uma tabelinha com algumas informações do dataframe, não só o que eu determino na variável 'popup' (infos que quero: conduta / natureza_lesao / logradouro_sede)"
   ]
  },
  {
   "cell_type": "markdown",
   "metadata": {},
   "source": [
    "### Definindo 'natureza_lesao' como objetivo de pesquisa"
   ]
  },
  {
   "cell_type": "code",
   "execution_count": null,
   "metadata": {},
   "outputs": [],
   "source": [
    "data['natureza_lesao'].unique()"
   ]
  },
  {
   "cell_type": "code",
   "execution_count": null,
   "metadata": {},
   "outputs": [],
   "source": [
    "# Pegando a média da latitudes e longitudes das ocorrências\n",
    "latmean = data['latitude'].mean()\n",
    "lonmean = data['longitude'].mean()\n",
    "\n",
    "# Criando o mapa\n",
    "mapa_teste1 = folium.Map(location=[latmean,lonmean], zoom_start=8, tiles='OpenStreetMap', control_scale=True)\n",
    "\n",
    "# Minimapa\n",
    "minimap = plugins.MiniMap(toggle_display=True)\n",
    "mapa_teste1.add_child(minimap)\n",
    "\n",
    "# Plugins - fullscreen\n",
    "plugins.Fullscreen(position='topleft').add_to(mapa_teste1)"
   ]
  },
  {
   "cell_type": "markdown",
   "metadata": {},
   "source": [
    "### Definindo as cores"
   ]
  },
  {
   "cell_type": "code",
   "execution_count": null,
   "metadata": {},
   "outputs": [],
   "source": [
    "dic_nl = {'Crimes de abuso de autoridade (Lei 4.898/1965)':'pink',\n",
    "          'Crimes de lesão corporal (CP)':'darkred',\n",
    "          'Crimes contra a honra (CP)':'green',\n",
    "          'Crimes contra a liberdade pessoal (CP)':'white',\n",
    "          'Crimes contra a liberdade sexual (CP)':'purple',\n",
    "          'Crimes contra a vida (CP)':'red',\n",
    "          'Crimes contra a administração da justiça (CP)':'cadetblue',\n",
    "          'Crimes de tortura (Lei 9.455/1997)':'black',\n",
    "          'Crimes contra a administração em geral (CP)':'lightgreen',\n",
    "          'Crimes contra a paz pública (CP)':'darkgreen',\n",
    "          'Crimes de periclitação da vida e da saúde (CP)':'darkpurple',\n",
    "          'Crimes de dano (CP)':'lightred',\n",
    "          'Crimes de perigo comum (CP)':'orange',\n",
    "          'Abuso de autoridade do ECA (Lei 8.069/1990)':'darkblue',\n",
    "          'Crime de extorsão (CP)':'gray',\n",
    "          'Crimes contra a fé pública (CP)':'blue',\n",
    "          'Convenção contra o crime de genocídio':'beige'}"
   ]
  },
  {
   "cell_type": "markdown",
   "metadata": {},
   "source": [
    "### Plotando sub-grupos em camadas"
   ]
  },
  {
   "cell_type": "code",
   "execution_count": null,
   "metadata": {},
   "outputs": [],
   "source": [
    "all_subgroups = folium.FeatureGroup(name='Tudo')\n",
    "\n",
    "mapa_teste1.add_child(all_subgroups)"
   ]
  },
  {
   "cell_type": "code",
   "execution_count": null,
   "metadata": {},
   "outputs": [],
   "source": [
    "def grupo_mapa(natureza_lesao):\n",
    "    group = plugins.FeatureGroupSubGroup(all_subgroups, natureza_lesao)\n",
    "    mapa_teste1.add_child(group)\n",
    "    \n",
    "    for i in data[data['natureza_lesao'] == natureza_lesao].itertuples():\n",
    "            folium.Marker(location=[i.latitude, i.longitude], \n",
    "                          popup=natureza_lesao, \n",
    "                          icon=folium.Icon(color=dic_nl[natureza_lesao], icon='bolt', prefix='fa')).add_to(group)"
   ]
  },
  {
   "cell_type": "code",
   "execution_count": null,
   "metadata": {},
   "outputs": [],
   "source": [
    "for i in dic_nl.keys():\n",
    "    grupo_mapa(i)"
   ]
  },
  {
   "cell_type": "markdown",
   "metadata": {},
   "source": [
    "### Adicionando menu"
   ]
  },
  {
   "cell_type": "code",
   "execution_count": null,
   "metadata": {},
   "outputs": [],
   "source": [
    "folium.LayerControl(collapsed=False).add_to(mapa_teste1)"
   ]
  },
  {
   "cell_type": "markdown",
   "metadata": {},
   "source": [
    "### Visualizando o mapa"
   ]
  },
  {
   "cell_type": "code",
   "execution_count": null,
   "metadata": {},
   "outputs": [],
   "source": [
    "mapa_teste1"
   ]
  },
  {
   "cell_type": "markdown",
   "metadata": {},
   "source": [
    "### Salvando o mapa"
   ]
  },
  {
   "cell_type": "code",
   "execution_count": null,
   "metadata": {},
   "outputs": [],
   "source": [
    "mapa_teste1.save('mapa_teste1.html')"
   ]
  },
  {
   "cell_type": "markdown",
   "metadata": {},
   "source": [
    "## Construindo o mapa 2) Apresentar todas as ocorrências (visualização através do 'MarkerCluster')"
   ]
  },
  {
   "cell_type": "code",
   "execution_count": null,
   "metadata": {},
   "outputs": [],
   "source": []
  },
  {
   "cell_type": "markdown",
   "metadata": {},
   "source": [
    "## Construindo o mapa 3) Apresentar índice de ocorrências totais por região (visualização através do 'choropleth')"
   ]
  },
  {
   "cell_type": "code",
   "execution_count": null,
   "metadata": {},
   "outputs": [],
   "source": []
  }
 ],
 "metadata": {
  "kernelspec": {
   "display_name": "Python 3",
   "language": "python",
   "name": "python3"
  },
  "language_info": {
   "codemirror_mode": {
    "name": "ipython",
    "version": 3
   },
   "file_extension": ".py",
   "mimetype": "text/x-python",
   "name": "python",
   "nbconvert_exporter": "python",
   "pygments_lexer": "ipython3",
   "version": "3.6.7"
  }
 },
 "nbformat": 4,
 "nbformat_minor": 4
}
